{
 "cells": [
  {
   "cell_type": "code",
   "execution_count": 2,
   "metadata": {
    "colab": {},
    "colab_type": "code",
    "id": "4nhG1h-FrsLX"
   },
   "outputs": [],
   "source": [
    "import json\n",
    "import os\n",
    "import pandas as pd\n",
    "from pprint import pprint"
   ]
  },
  {
   "cell_type": "code",
   "execution_count": 2,
   "metadata": {
    "colab": {
     "base_uri": "https://localhost:8080/",
     "height": 153
    },
    "colab_type": "code",
    "id": "wVtaCvIZslMJ",
    "outputId": "c256ad0e-85c0-48aa-d579-28d3f63f958f"
   },
   "outputs": [
    {
     "name": "stdout",
     "output_type": "stream",
     "text": [
      "Cloning into 'courseGraph'...\n",
      "warning: redirecting to https://github.com/nanangqq/courseGraph.git/\n",
      "remote: Enumerating objects: 147, done.\u001b[K\n",
      "remote: Counting objects: 100% (147/147), done.\u001b[K\n",
      "remote: Compressing objects: 100% (93/93), done.\u001b[K\n",
      "remote: Total 147 (delta 89), reused 107 (delta 49), pack-reused 0\u001b[K\n",
      "Receiving objects: 100% (147/147), 509.72 KiB | 13.78 MiB/s, done.\n",
      "Resolving deltas: 100% (89/89), done.\n"
     ]
    }
   ],
   "source": [
    "# # 데이터 파일 가져오기 colab 전용\n",
    "# !git clone http://github.com/nanangqq/courseGraph.git"
   ]
  },
  {
   "cell_type": "code",
   "execution_count": 4,
   "metadata": {
    "colab": {
     "base_uri": "https://localhost:8080/",
     "height": 34
    },
    "colab_type": "code",
    "id": "0WSxZKfHApFR",
    "outputId": "50287ca8-eaab-43ac-b8f8-db4e9be155da"
   },
   "outputs": [
    {
     "name": "stdout",
     "output_type": "stream",
     "text": [
      "courseGraph  sample_data\n"
     ]
    }
   ],
   "source": [
    "# # 가져온 데이터 디렉토리 확인\n",
    "# !ls"
   ]
  },
  {
   "cell_type": "code",
   "execution_count": 11,
   "metadata": {
    "colab": {
     "base_uri": "https://localhost:8080/",
     "height": 238
    },
    "colab_type": "code",
    "id": "wJEtGus_J2_m",
    "outputId": "a1019d28-f955-474c-d7a4-753c069a69a4"
   },
   "outputs": [
    {
     "name": "stdout",
     "output_type": "stream",
     "text": [
      "warning: redirecting to https://github.com/nanangqq/courseGraph.git/\n",
      "remote: Enumerating objects: 4, done.\u001b[K\n",
      "remote: Counting objects: 100% (4/4), done.\u001b[K\n",
      "remote: Compressing objects: 100% (2/2), done.\u001b[K\n",
      "remote: Total 3 (delta 1), reused 3 (delta 1), pack-reused 0\u001b[K\n",
      "Unpacking objects: 100% (3/3), done.\n",
      "From http://github.com/nanangqq/courseGraph\n",
      "   f4a46d5..02e4f3c  master     -> origin/master\n",
      "Updating f4a46d5..02e4f3c\n",
      "Fast-forward\n",
      " graphMerge_1009.CSV | 331 \u001b[32m++++++++++++++++++++++++++++++++++++++++++++++++++++\u001b[m\n",
      " 1 file changed, 331 insertions(+)\n",
      " create mode 100644 graphMerge_1009.CSV\n"
     ]
    }
   ],
   "source": [
    "# !git pull"
   ]
  },
  {
   "cell_type": "code",
   "execution_count": 0,
   "metadata": {
    "colab": {},
    "colab_type": "code",
    "id": "FmXKHNk-CkHj"
   },
   "outputs": [],
   "source": [
    "# # 작업폴더 이동\n",
    "# os.chdir('courseGraph')"
   ]
  },
  {
   "cell_type": "code",
   "execution_count": 1,
   "metadata": {
    "colab": {
     "base_uri": "https://localhost:8080/",
     "height": 119
    },
    "colab_type": "code",
    "id": "zw6QPV51XssU",
    "outputId": "cbd79699-00e4-4479-9955-8d1516054c9f"
   },
   "outputs": [
    {
     "name": "stderr",
     "output_type": "stream",
     "text": [
      "'ls'은(는) 내부 또는 외부 명령, 실행할 수 있는 프로그램, 또는\n",
      "배치 파일이 아닙니다.\n"
     ]
    }
   ],
   "source": [
    "# # 데이터 리스트 확인\n",
    "# !ls data"
   ]
  },
  {
   "cell_type": "code",
   "execution_count": 0,
   "metadata": {
    "colab": {},
    "colab_type": "code",
    "id": "cm2XUjg4stUf"
   },
   "outputs": [],
   "source": [
    "# 원본 그래프 데이터 로드\n",
    "\n",
    "datapath = './data/'\n",
    "uList = os.listdir(datapath)\n",
    "rawGraph = {}\n",
    "for u in uList:\n",
    "    with open(datapath+u,'r',encoding='utf8') as f:\n",
    "        rawGraph[u.split('.')[0]]=json.load(f)\n",
    "# pprint(rawGraph)"
   ]
  },
  {
   "cell_type": "code",
   "execution_count": 6,
   "metadata": {
    "colab": {
     "base_uri": "https://localhost:8080/",
     "height": 34
    },
    "colab_type": "code",
    "id": "0eRyNrT4EQEG",
    "outputId": "a419b3b5-076f-4065-9b93-65b84533832e"
   },
   "outputs": [
    {
     "name": "stdout",
     "output_type": "stream",
     "text": [
      "907\n"
     ]
    }
   ],
   "source": [
    "cnt=0\n",
    "for u in rawGraph.values():\n",
    "    cnt+=len(u['crsList'])\n",
    "print(cnt)"
   ]
  },
  {
   "cell_type": "code",
   "execution_count": 0,
   "metadata": {
    "colab": {},
    "colab_type": "code",
    "id": "wJ5vAxmSveFx"
   },
   "outputs": [],
   "source": [
    "def printCourses(univFileName, uList=uList):\n",
    "    cnt=0\n",
    "    for crs in rawGraph[univFileName.split('.')[0]]['crsList']:\n",
    "        print((0,crs['props']['name']))\n",
    "        # print(crs['props']['description'])\n",
    "        # print(crs['props']['prerequisites'])\n",
    "        cnt+=1\n",
    "    print(cnt)"
   ]
  },
  {
   "cell_type": "code",
   "execution_count": 0,
   "metadata": {
    "colab": {},
    "colab_type": "code",
    "id": "Q06Q5YWPviUT"
   },
   "outputs": [],
   "source": [
    "# 학교별 그래프에 있는 강의 리스트 확인 - 매칭 작업용\n",
    "printCourses('Edx.json')"
   ]
  },
  {
   "cell_type": "code",
   "execution_count": 0,
   "metadata": {
    "colab": {},
    "colab_type": "code",
    "id": "QMjfygo1V3At"
   },
   "outputs": [],
   "source": [
    "# 강의마다 weight 입력해서 매칭한 데이터 불러오기\n",
    "with open('./graphMerge_1011.CSV', 'r', encoding='ms949') as f:\n",
    "    mergeMap = pd.read_csv(f)"
   ]
  },
  {
   "cell_type": "code",
   "execution_count": 8,
   "metadata": {
    "colab": {
     "base_uri": "https://localhost:8080/",
     "height": 408
    },
    "colab_type": "code",
    "id": "z1MJGCWLj5si",
    "outputId": "ddf5efe4-9263-4b04-850b-f0cda60ceaa0"
   },
   "outputs": [
    {
     "data": {
      "text/plain": [
       "['SNU',\n",
       " 'KAIST',\n",
       " 'Korea',\n",
       " 'Postech',\n",
       " 'SKKU',\n",
       " 'Google',\n",
       " 'Microsoft',\n",
       " 'Amazon',\n",
       " 'Coursera',\n",
       " 'Edx',\n",
       " 'udacity',\n",
       " 'Udemy',\n",
       " 'CMU',\n",
       " 'Berkeley',\n",
       " 'MIT',\n",
       " 'Cornell',\n",
       " 'Harvard',\n",
       " 'Stanford',\n",
       " 'MarylandCP',\n",
       " 'MichiganAA',\n",
       " 'IllinoisUC',\n",
       " 'Caltech',\n",
       " 'GeorgiaTech']"
      ]
     },
     "execution_count": 8,
     "metadata": {
      "tags": []
     },
     "output_type": "execute_result"
    }
   ],
   "source": [
    "# 현재까지 매칭된 학교 리스트 추출\n",
    "matchedUnivList = list(mergeMap.columns)[1:]\n",
    "# matchedUnivList = ['CMU', 'Berkeley', 'SNU', 'MIT', 'GeorgiaTech']\n",
    "matchedUnivList"
   ]
  },
  {
   "cell_type": "code",
   "execution_count": 0,
   "metadata": {
    "colab": {},
    "colab_type": "code",
    "id": "oxHeoJ2-WLdW"
   },
   "outputs": [],
   "source": [
    "# mergeMap 데이터를 dict 형태로 추출\n",
    "crsDict={}\n",
    "cnt = 1 # 통합 강의 코드(임시) 넘버링\n",
    "for row in mergeMap.itertuples():\n",
    "    if type(row[1]) is str:\n",
    "\n",
    "        tmp = {\n",
    "            'crs_id': 'test'+str(cnt), # 통합 강의 코드 (임시)\n",
    "            'name': row[1],\n",
    "            'source': {},\n",
    "            'sourceWeight': 0,\n",
    "            'prerequisites': {},\n",
    "            'prqWeightIn': 0,\n",
    "            'prqWeightOut': 0\n",
    "        } \n",
    "        for i in range(len(matchedUnivList)):\n",
    "            univ = matchedUnivList[i]\n",
    "            tmp['source'][univ]=[]\n",
    "\n",
    "            if type(row[2+i]) is str:\n",
    "                src = eval(row[2+i])\n",
    "                tmp['sourceWeight'] += src[0]\n",
    "                tmp['source'][univ].append(src)\n",
    "        \n",
    "        crsDict[tmp['crs_id']] = tmp\n",
    "\n",
    "        cnt+=1\n",
    "    else:\n",
    "        for i in range(len(matchedUnivList)):\n",
    "            univ = matchedUnivList[i]\n",
    "            if type(row[2+i]) is str:\n",
    "                src = eval(row[2+i])\n",
    "                tmp['sourceWeight'] += src[0]\n",
    "                tmp['source'][univ].append(src)\n",
    "        \n",
    "# pprint(crsDict)"
   ]
  },
  {
   "cell_type": "code",
   "execution_count": 0,
   "metadata": {
    "colab": {},
    "colab_type": "code",
    "id": "nP8na2xOWh2o"
   },
   "outputs": [],
   "source": [
    "# 학교별로 강의 제목마다 어떤 임시 강의 코드(통합)와 매칭되는지 inverseMap 작성\n",
    "# 학교별로 강의 코드와 강의 제목 매칭 ordMap 작성\n",
    "\n",
    "inverseMap = {univ:{} for univ in matchedUnivList}\n",
    "ordMap = {univ:{} for univ in matchedUnivList}\n",
    "\n",
    "for test_id in crsDict:\n",
    "    crs=crsDict[test_id]\n",
    "    for univ in crs['source']:\n",
    "        for src in crs['source'][univ]:\n",
    "            # print(crs['crs_id'], crs['name'], univ, src[0], src[1])\n",
    "            inverseMap[univ][src[1]]=crs['crs_id']\n",
    "        \n",
    "        for u in rawGraph:\n",
    "            if u==univ:\n",
    "                for c in rawGraph[u]['crsList']:\n",
    "                    ordMap[u][c['props']['crs_id']] = c['props']['name']\n",
    "\n",
    "# pprint(inverseMap)\n",
    "# pprint(ordMap)"
   ]
  },
  {
   "cell_type": "code",
   "execution_count": 0,
   "metadata": {
    "colab": {},
    "colab_type": "code",
    "id": "_GE82XLQW2TB"
   },
   "outputs": [],
   "source": [
    "# 기존 그래프에서 prerequisites 데이터 불러와서 통합 강의에 넣는 함수 작성 (기존 학교별 강의 코드로 되어있는 것을 통합 코드(임시)로 변경, weight 추가)\n",
    "\n",
    "def mergePrq(univ, rawGraph=rawGraph, crsDict=crsDict, inverseMap=inverseMap, ordMap=ordMap):\n",
    "    # print(univ)\n",
    "    for crs in rawGraph[univ]['crsList']:\n",
    "        crsToName = crs['props']['name'] # prq뽑을 강의 이름\n",
    "\n",
    "        if crsToName in inverseMap[univ]: \n",
    "            crsToObj = crsDict[inverseMap[univ][crsToName]] # inverseMap으로 기존 강의 이름에 대한 통합 강의 코드 뽑아서 crsDict 조회\n",
    "            crsToOldPrqList = crs['props']['prerequisites'] # 기존 prerequisites 리스트 - 학교 강의코드로 되어 있음,,\n",
    "            # print(crsToObj)\n",
    "\n",
    "            tmpWeight = crsToObj['prqWeightIn']\n",
    "            prqDict = crsToObj['prerequisites']\n",
    "\n",
    "            for prq in crsToOldPrqList:\n",
    "                if prq in ordMap[univ]:\n",
    "                    prqCrsName = ordMap[univ][prq] # 선수과목 원래 이름\n",
    "                    \n",
    "                    if prqCrsName in inverseMap[univ]:\n",
    "                        prqMergedId = inverseMap[univ][prqCrsName] # 선수과목 통합 강의 코드\n",
    "                        # print(prqCrsName)\n",
    "                        # print(prqMergedId)\n",
    "\n",
    "                        for src in crsToObj['source'][univ]:\n",
    "                            # print(src) # to 강의 (weight, 이름)\n",
    "                            if src[1]==crsToName:\n",
    "                                print(prqMergedId, crsToObj['crs_id'])\n",
    "                                if prqMergedId != crsToObj['crs_id']:\n",
    "                                    fromWeight = [fromSrc[0] for fromSrc in crsDict[prqMergedId]['source'][univ] if fromSrc[1]==prqCrsName][0]\n",
    "                                    tmpWeight += src[0]*fromWeight\n",
    "                                    crsDict[prqMergedId]['prqWeightOut'] += src[0]*fromWeight\n",
    "                                    if prqMergedId not in prqDict:\n",
    "                                        prqDict[prqMergedId] = src[0]*fromWeight\n",
    "                                    else:\n",
    "                                        prqDict[prqMergedId] += src[0]*fromWeight\n",
    "            \n",
    "            crsToObj['prqWeightIn'] = tmpWeight"
   ]
  },
  {
   "cell_type": "code",
   "execution_count": 0,
   "metadata": {
    "colab": {},
    "colab_type": "code",
    "id": "cqRF5iHbW_ow"
   },
   "outputs": [],
   "source": [
    "# mergePrq('Berkeley')\n",
    "# mergePrq('CMU')\n",
    "# mergePrq('SNU')\n",
    "# mergePrq('MIT')\n",
    "# mergePrq('GeorgiaTech')\n",
    "for univ in matchedUnivList:\n",
    "    mergePrq(univ)\n",
    "pprint(crsDict)"
   ]
  },
  {
   "cell_type": "code",
   "execution_count": 0,
   "metadata": {
    "colab": {},
    "colab_type": "code",
    "id": "bo3ugUqIXK0x"
   },
   "outputs": [],
   "source": [
    "output={\n",
    "    \"crsList\":[],\n",
    "    \"merged\":True,\n",
    "    \"view_size\":[3900,2700],\n",
    "    \"cps\":[[150,90],[450,90],[750,90],[1050,90],[1350,90],[1650,90],[1950,90],[2250,90],[2550,90],[2850,90],[3150,90],[3450,90],[3750,90],[150,270],[450,270],[750,270],[1050,270],[1350,270],[1650,270],[1950,270],[2250,270],[2550,270],[2850,270],[3150,270],[3450,270],[3750,270],[150,450],[450,450],[750,450],[1050,450],[1350,450],[1650,450],[1950,450],[2250,450],[2550,450],[2850,450],[3150,450],[3450,450],[3750,450],[150,630],[450,630],[750,630],[1050,630],[1350,630],[1650,630],[1950,630],[2250,630],[2550,630],[2850,630],[3150,630],[3450,630],[3750,630],[150,810],[450,810],[750,810],[1050,810],[1350,810],[1650,810],[1950,810],[2250,810],[2550,810],[2850,810],[3150,810],[3450,810],[3750,810],[150,990],[450,990],[750,990],[1050,990],[1350,990],[1650,990],[1950,990],[2250,990],[2550,990],[2850,990],[3150,990],[3450,990],[3750,990],[150,1170],[450,1170],[750,1170],[1050,1170],[1350,1170],[1650,1170],[1950,1170],[2250,1170],[2550,1170],[2850,1170],[3150,1170],[3450,1170],[3750,1170],[150,1350],[450,1350],[750,1350],[1050,1350],[1350,1350],[1650,1350],[1950,1350],[2250,1350],[2550,1350],[2850,1350],[3150,1350],[3450,1350],[3750,1350],[150,1530],[450,1530],[750,1530],[1050,1530],[1350,1530],[1650,1530],[1950,1530],[2250,1530],[2550,1530],[2850,1530],[3150,1530],[3450,1530],[3750,1530],[150,1710],[450,1710],[750,1710],[1050,1710],[1350,1710],[1650,1710],[1950,1710],[2250,1710],[2550,1710],[2850,1710],[3150,1710],[3450,1710],[3750,1710],[150,1890],[450,1890],[750,1890],[1050,1890],[1350,1890],[1650,1890],[1950,1890],[2250,1890],[2550,1890],[2850,1890],[3150,1890],[3450,1890],[3750,1890],[150,2070],[450,2070],[750,2070],[1050,2070],[1350,2070],[1650,2070],[1950,2070],[2250,2070],[2550,2070],[2850,2070],[3150,2070],[3450,2070],[3750,2070],[150,2250],[450,2250],[750,2250],[1050,2250],[1350,2250],[1650,2250],[1950,2250],[2250,2250],[2550,2250],[2850,2250],[3150,2250],[3450,2250],[3750,2250],[150,2430],[450,2430],[750,2430],[1050,2430],[1350,2430],[1650,2430],[1950,2430],[2250,2430],[2550,2430],[2850,2430],[3150,2430],[3450,2430],[3750,2430],[150,2610],[450,2610],[750,2610],[1050,2610],[1350,2610],[1650,2610],[1950,2610],[2250,2610],[2550,2610],[2850,2610],[3150,2610],[3450,2610],[3750,2610]]\n",
    "    }\n",
    "cmuOriginMap = {\"0\":\"11492\",\"4\":\"15128\",\"5\":\"99101\",\"6\":\"16161\",\"13\":\"85421\",\"14\":\"11411\",\"18\":\"15151\",\"22\":\"15213\",\"26\":\"11442\",\"27\":\"11441\",\"35\":\"21241\",\"37\":\"15463\",\"45\":\"15122\",\"50\":\"16385\",\"52\":\"16467\",\"53\":\"05391\",\"67\":\"15150\",\"77\":\"15386\",\"78\":\"16350\",\"79\":\"15494\",\"85\":\"15259\",\"86\":\"15750\",\"87\":\"15281\",\"89\":\"21122\",\"90\":\"15387\",\"92\":\"16362\",\"93\":\"15210\",\"94\":\"15251\",\"96\":\"07180\",\"97\":\"10315\",\"99\":\"36218\",\"103\":\"85370\",\"112\":\"15482\",\"113\":\"36401\",\"114\":\"16384\",\"115\":\"21120\",\"121\":\"85213\",\"126\":\"36402\",\"131\":\"85211\",\"134\":\"85390\",\"135\":\"10745\",\"136\":\"10715\",\"139\":\"10718\",\"152\":\"10418\",\"154\":\"80249\",\"157\":\"85408\",\"158\":\"85412\",\"159\":\"10605\",\"160\":\"10708\",\"161\":\"10707\",\"165\":\"10703\",\"167\":\"15853\",\"170\":\"76101\",\"172\":\"15826\",\"174\":\"36705\",\"175\":\"10716\",\"176\":\"10403\",\"177\":\"15780\",\"178\":\"10417\",\"179\":\"11485\",\"186\":\"36710\",\"187\":\"36709\",\"188\":\"36700\",\"189\":\"05317\",\"190\":\"36707\",\"191\":\"10725\",\"192\":\"17200\"}\n",
    "cmuKeyNameMap = {}\n",
    "for crs in rawGraph['CMU']['crsList']:\n",
    "    cmuKeyNameMap[crs['props']['name']]=crs['key']\n",
    "\n",
    "keyMap={}\n",
    "for test_id in crsDict:\n",
    "    crs = crsDict[test_id]\n",
    "    tmp = {}\n",
    "    if crs['name'] in inverseMap['CMU']:\n",
    "        # print(crs['name'], cmuKeyNameMap[crs['name']])\n",
    "        tmp['key'] = cmuKeyNameMap[crs['name']]\n",
    "        crs['cp'] = output['cps'][int(cmuKeyNameMap[crs['name']])]\n",
    "        tmp['props'] = crs\n",
    "        keyMap[cmuKeyNameMap[crs['name']]]=crs['crs_id']\n",
    "    else:\n",
    "        # print(crs['name'])\n",
    "        for i in range(len(output['cps'])):\n",
    "            key=str(i)\n",
    "            if key not in cmuOriginMap:\n",
    "                tmp['key'] = key\n",
    "                crs['cp'] = output['cps'][i]\n",
    "                tmp['props'] = crs\n",
    "                keyMap[key] = crs['crs_id']\n",
    "                cmuOriginMap[key] = crs['crs_id']\n",
    "                break\n",
    "    output['crsList'].append(tmp)\n",
    "output['map'] = keyMap\n",
    "pprint(output)\n",
    "\n",
    "with open('merged_1009.json', 'w', encoding='utf8') as f:\n",
    "    json.dump(output, f)"
   ]
  },
  {
   "cell_type": "code",
   "execution_count": 0,
   "metadata": {
    "colab": {},
    "colab_type": "code",
    "id": "vRjjJKTJLJBS"
   },
   "outputs": [],
   "source": [
    "from google.colab import files\n",
    "files.download('merged_1009.json')"
   ]
  },
  {
   "cell_type": "code",
   "execution_count": 0,
   "metadata": {
    "colab": {},
    "colab_type": "code",
    "id": "hOLxa_Fd4AaB"
   },
   "outputs": [],
   "source": [
    "!ls"
   ]
  }
 ],
 "metadata": {
  "colab": {
   "collapsed_sections": [],
   "name": "graphMerge",
   "provenance": []
  },
  "kernelspec": {
   "display_name": "Python 3",
   "language": "python",
   "name": "python3"
  },
  "language_info": {
   "codemirror_mode": {
    "name": "ipython",
    "version": 3
   },
   "file_extension": ".py",
   "mimetype": "text/x-python",
   "name": "python",
   "nbconvert_exporter": "python",
   "pygments_lexer": "ipython3",
   "version": "3.7.3"
  }
 },
 "nbformat": 4,
 "nbformat_minor": 1
}
